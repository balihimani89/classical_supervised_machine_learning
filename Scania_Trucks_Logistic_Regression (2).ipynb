{
 "cells": [
  {
   "cell_type": "code",
   "execution_count": 3,
   "metadata": {},
   "outputs": [],
   "source": [
    "import pandas as pd\n",
    "import numpy as np\n",
    "from sklearn.impute import SimpleImputer\n",
    "import matplotlib.pyplot as plt\n",
    "import seaborn as sns\n",
    "from Rashtriya_Raksha_University_Gaussian_NB import rru_gaussian_nb\n",
    "from imblearn.over_sampling import SMOTE\n",
    "from sklearn.linear_model import LogisticRegression\n",
    "from sklearn.metrics import accuracy_score,precision_score,recall_score"
   ]
  },
  {
   "cell_type": "code",
   "execution_count": 4,
   "metadata": {},
   "outputs": [],
   "source": [
    "class rru_gaussian_nb_scania(rru_gaussian_nb):\n",
    "    \n",
    "    def __init__(xerox_copy,data,non_missing_threshold,split_ratio,apply_pca_or_not,n_principal_components):\n",
    "        data.replace(to_replace='na',value=np.nan,inplace=True)\n",
    "        data.dropna(axis=1,inplace=True,thresh=int(non_missing_threshold*data.shape[0]))\n",
    "        data_labels = data['class']\n",
    "        imputer = SimpleImputer()\n",
    "        data_array = imputer.fit_transform(X=data.iloc[:,1:])\n",
    "        data_columns = data.columns\n",
    "        data = pd.DataFrame(data=data_array,columns=data_columns[1:])\n",
    "        np_array_list = list()\n",
    "        \n",
    "        for column in data.columns:\n",
    "            data[column] = pd.qcut(x=data[column],q=10,duplicates='drop').cat.codes\n",
    "            np_array_list.append(np.eye(10,10)[data[column]])\n",
    "            \n",
    "        data_array = np.concatenate(np_array_list,axis=1)\n",
    "        data = pd.DataFrame(data=data_array)\n",
    "        data['class'] = data_labels\n",
    "        xerox_copy.data = data\n",
    "        \n",
    "        super().__init__(features=data.iloc[:,0:data.shape[1]-1],labels=data['class'],data_split_ratio=split_ratio,\n",
    "                         apply_pca=apply_pca_or_not,n_components=n_principal_components)"
   ]
  },
  {
   "cell_type": "code",
   "execution_count": 5,
   "metadata": {},
   "outputs": [
    {
     "name": "stderr",
     "output_type": "stream",
     "text": [
      "C:\\Users\\Lenovo\\AppData\\Local\\Temp\\ipykernel_9460\\854332020.py:1: DtypeWarning: Columns (1) have mixed types. Specify dtype option on import or set low_memory=False.\n",
      "  data = pd.read_csv(\"./aps_failure_training_set.csv\",header=None,skiprows=20)\n"
     ]
    }
   ],
   "source": [
    "data = pd.read_csv(\"./aps_failure_training_set.csv\",header=None,skiprows=20)"
   ]
  },
  {
   "cell_type": "code",
   "execution_count": 6,
   "metadata": {},
   "outputs": [],
   "source": [
    "column_names = data.iloc[0]\n",
    "\n",
    "data = pd.read_csv(\"./aps_failure_training_set.csv\",header=None,skiprows=21,names=column_names)"
   ]
  },
  {
   "cell_type": "code",
   "execution_count": null,
   "metadata": {},
   "outputs": [],
   "source": [
    "logistic_regression_configs = dict()\n",
    "\n",
    "for non_na_thresh in np.arange(0.7,1,0.1):\n",
    "    for n_comp in np.arange(20,170,50):\n",
    "        \n",
    "        logistic_regression_configs[(non_na_thresh,n_comp)] = rru_gaussian_nb_scania(data,non_na_thresh,\n",
    "                                                                                     (0.7,0.2,0.0),\n",
    "                                                                                     True,n_comp)"
   ]
  },
  {
   "cell_type": "code",
   "execution_count": null,
   "metadata": {},
   "outputs": [],
   "source": [
    "logistic_regression_configs"
   ]
  },
  {
   "cell_type": "code",
   "execution_count": null,
   "metadata": {},
   "outputs": [],
   "source": [
    "logistic_regression = dict()\n",
    "cv_data_list = list()\n",
    "\n",
    "for configs,obj in logistic_regression_configs.items():\n",
    "    for reg_strength in [0.001,0.01,0.1,1,10,100,1000]:\n",
    "    \n",
    "        X_resampled,y_resampled = SMOTE(sampling_strategy='minority').fit_resample(X=obj.X_new,y=data['class'])\n",
    "        data_resampled = pd.DataFrame(data=X_resampled)\n",
    "        data_resampled['class'] = data['class']\n",
    "        train_data,cv_data,test_data = obj.data_splitting(data_resampled)\n",
    "        cv_data_list.append(cv_data)\n",
    "        k = tuple(list(configs)+[reg_strength])\n",
    "        logistic_regression[k] = LogisticRegression(C=reg_strength,verbose=1,n_jobs=-1).fit(X=np.array(train_data.iloc[:,0:train_data.shape[1]-1]),\n",
    "                                                                        y=train_data['label'])"
   ]
  },
  {
   "cell_type": "code",
   "execution_count": null,
   "metadata": {},
   "outputs": [],
   "source": [
    "logistic_regression"
   ]
  },
  {
   "cell_type": "code",
   "execution_count": null,
   "metadata": {},
   "outputs": [],
   "source": [
    "metrics = dict()\n",
    "\n",
    "for obj,cv_data,config in tuple(zip(logistic_regression.values(),cv_data_list,logistic_regression.keys())):\n",
    "    \n",
    "    predicted_category = obj.predict(X=np.array(cv_data.iloc[:,0:cv_data.shape[1]-1]))\n",
    "    acc = accuracy_score(y_true=np.array(cv_data['label']),y_pred=predicted_category)\n",
    "    precision = precision_score(y_true=np.array(cv_data['label']),y_pred=predicted_category,\n",
    "                                pos_label='pos',zero_division=1)\n",
    "    recall = recall_score(y_true=np.array(cv_data['label']),y_pred=predicted_category,\n",
    "                                pos_label='pos',zero_division=1)\n",
    "    metrics[config] = {'accuracy':acc,'precision':precision,'recall':recall}"
   ]
  },
  {
   "cell_type": "code",
   "execution_count": null,
   "metadata": {},
   "outputs": [],
   "source": [
    "metrics"
   ]
  },
  {
   "cell_type": "markdown",
   "metadata": {},
   "source": [
    "#For test data after receiving the best configuration"
   ]
  },
  {
   "cell_type": "markdown",
   "metadata": {},
   "source": [
    "#Testing test data from train data only."
   ]
  },
  {
   "cell_type": "code",
   "execution_count": 7,
   "metadata": {},
   "outputs": [],
   "source": [
    "logistic_regression_configs_best = dict()\n",
    "non_na_thresh=0.7\n",
    "n_comp=20\n",
    "logistic_regression_configs_best[(non_na_thresh,n_comp)] = rru_gaussian_nb_scania(data,non_na_thresh,\n",
    "                                                                                     (0.5,0.2,0.0),\n",
    "                                                                                     True,n_comp)"
   ]
  },
  {
   "cell_type": "code",
   "execution_count": 47,
   "metadata": {},
   "outputs": [
    {
     "name": "stderr",
     "output_type": "stream",
     "text": [
      "[Parallel(n_jobs=-1)]: Using backend LokyBackend with 4 concurrent workers.\n",
      "[Parallel(n_jobs=-1)]: Done   1 out of   1 | elapsed:    2.6s finished\n"
     ]
    }
   ],
   "source": [
    "logistic_regression_best = dict()\n",
    "test_data_list = list()\n",
    "reg_strength=0.001\n",
    "for configs,obj in logistic_regression_configs_best.items():\n",
    "        X_resampled,y_resampled = SMOTE(sampling_strategy='minority').fit_resample(X=obj.X_new,y=data['class'])\n",
    "        data_resampled = pd.DataFrame(data=X_resampled)\n",
    "        data_resampled['class'] = data['class']\n",
    "        train_data,cv_data,test_data = obj.data_splitting(data_resampled)\n",
    "        test_data_list.append(test_data)\n",
    "        k = tuple(list(configs)+[reg_strength])\n",
    "        logistic_regression_best[k] = LogisticRegression(C=reg_strength,verbose=1,n_jobs=-1).fit(X=np.array(train_data.iloc[:,0:train_data.shape[1]-1]),\n",
    "                                                                        y=train_data['label'])\n"
   ]
  },
  {
   "cell_type": "code",
   "execution_count": 52,
   "metadata": {},
   "outputs": [],
   "source": [
    "metrics_test = dict()\n",
    "\n",
    "for obj,cv_data,config in tuple(zip(logistic_regression_best.values(),test_data_list,logistic_regression_best.keys())):\n",
    "    \n",
    "    predicted_category = obj.predict(X=np.array(test_data.iloc[:,0:test_data.shape[1]-1]))\n",
    "    acc = accuracy_score(y_true=np.array(test_data['label']),y_pred=predicted_category)\n",
    "    precision = precision_score(y_true=np.array(test_data['label']),y_pred=predicted_category,\n",
    "                                pos_label='pos',zero_division=1)\n",
    "    recall = recall_score(y_true=np.array(test_data['label']),y_pred=predicted_category,\n",
    "                                pos_label='pos',zero_division=1)\n",
    "    metrics_test[config] = {'accuracy':acc,'precision':precision,'recall':recall}"
   ]
  },
  {
   "cell_type": "code",
   "execution_count": 53,
   "metadata": {},
   "outputs": [
    {
     "data": {
      "text/plain": [
       "{(0.7, 20, 0.001): {'accuracy': 0.9966101694915255,\n",
       "  'precision': 0.0,\n",
       "  'recall': 1.0}}"
      ]
     },
     "execution_count": 53,
     "metadata": {},
     "output_type": "execute_result"
    }
   ],
   "source": [
    "metrics_test"
   ]
  }
 ],
 "metadata": {
  "kernelspec": {
   "display_name": "Python 3 (ipykernel)",
   "language": "python",
   "name": "python3"
  },
  "language_info": {
   "codemirror_mode": {
    "name": "ipython",
    "version": 3
   },
   "file_extension": ".py",
   "mimetype": "text/x-python",
   "name": "python",
   "nbconvert_exporter": "python",
   "pygments_lexer": "ipython3",
   "version": "3.11.7"
  }
 },
 "nbformat": 4,
 "nbformat_minor": 4
}
