{
 "cells": [
  {
   "cell_type": "code",
   "execution_count": 1,
   "id": "fed035ef-f6ba-40ee-80c5-5527a23b4fbd",
   "metadata": {},
   "outputs": [],
   "source": [
    "#unzip a file.\n",
    "#from zipfile import ZipFile\n",
    "#zip = ZipFile('devanagari+handwritten+character+dataset.zip')\n",
    "#zip.extractall()"
   ]
  },
  {
   "cell_type": "code",
   "execution_count": 2,
   "id": "3978e7db-02bf-47d8-b684-59f8e8d7ab41",
   "metadata": {},
   "outputs": [],
   "source": [
    "import pandas as pd\n",
    "\n",
    "import numpy as np\n",
    "\n",
    "import matplotlib.pyplot as plt\n",
    "\n",
    "import os"
   ]
  },
  {
   "cell_type": "code",
   "execution_count": 3,
   "id": "be4f2368-edcd-4815-b7b3-a49bfd68283f",
   "metadata": {},
   "outputs": [],
   "source": [
    "from sklearn.metrics import classification_report"
   ]
  },
  {
   "cell_type": "code",
   "execution_count": 4,
   "id": "fb3180e0-51bb-4123-9096-b06ce283a44d",
   "metadata": {},
   "outputs": [],
   "source": [
    "from sklearn.metrics import accuracy_score, f1_score, roc_auc_score, roc_curve, average_precision_score, recall_score"
   ]
  },
  {
   "cell_type": "code",
   "execution_count": 5,
   "id": "f24fbd21-2871-4bb0-b68d-d84c47072e00",
   "metadata": {},
   "outputs": [],
   "source": [
    "train_path = \"./DevanagariHandwrittenCharacterDataset/Train\"\n",
    "\n",
    "test_path = \"./DevanagariHandwrittenCharacterDataset/Test\""
   ]
  },
  {
   "cell_type": "code",
   "execution_count": 6,
   "id": "1905baad-e015-4e65-8951-3c66a6557abf",
   "metadata": {},
   "outputs": [],
   "source": [
    "unique_labels = os.listdir(train_path)"
   ]
  },
  {
   "cell_type": "code",
   "execution_count": 7,
   "id": "b3f62ff5-f728-45f9-8296-727d1c04c015",
   "metadata": {},
   "outputs": [],
   "source": [
    "def list_of_images(folder):\n",
    "    \n",
    "    return os.listdir(os.path.join(train_path,folder))"
   ]
  },
  {
   "cell_type": "code",
   "execution_count": 8,
   "id": "75e568df-4dd0-402f-a467-686bc50e14c5",
   "metadata": {},
   "outputs": [],
   "source": [
    "def read_image(folder,image):\n",
    "    \n",
    "    folder_path = os.path.join(train_path,folder)\n",
    "    \n",
    "    image_path = os.path.join(folder_path,image)\n",
    "    \n",
    "    image = plt.imread(image_path)\n",
    "    \n",
    "    return image.reshape(image.shape[0]*image.shape[1],)"
   ]
  },
  {
   "cell_type": "code",
   "execution_count": 9,
   "id": "55a0f4eb-976e-4b34-90cc-f161993bb706",
   "metadata": {},
   "outputs": [
    {
     "name": "stdout",
     "output_type": "stream",
     "text": [
      "train_data_len: 1360.0\n",
      "cv_data_len: 340.0\n"
     ]
    }
   ],
   "source": [
    "for i in unique_labels:\n",
    "    m=list_of_images(i)    \n",
    "print(\"train_data_len:\",float(len(m)) * 0.8)\n",
    "print(\"cv_data_len:\",float(len(m)) * 0.2)"
   ]
  },
  {
   "cell_type": "code",
   "execution_count": 10,
   "id": "eb2cc5b9-7569-4ef8-b144-2a8e967ed1c2",
   "metadata": {},
   "outputs": [],
   "source": [
    "def stacking_row_vectors(folder):\n",
    "    \n",
    "    images_list = list_of_images(folder)\n",
    "    \n",
    "    images = []\n",
    "    \n",
    "    for img in images_list:\n",
    "        \n",
    "        images.append(read_image(folder,img))\n",
    "        \n",
    "    return np.array(images[0:1360]), np.array(images[1360:])"
   ]
  },
  {
   "cell_type": "code",
   "execution_count": 11,
   "id": "0a5fa4c2-2428-4d0c-98c3-28c9d399d3d4",
   "metadata": {},
   "outputs": [],
   "source": [
    "train_data = []\n",
    "\n",
    "cv_data = []\n",
    "\n",
    "for folder in unique_labels:\n",
    "    \n",
    "    train_folder_matrix, cv_folder_matrix = stacking_row_vectors(folder)\n",
    "    \n",
    "    train_data.append(train_folder_matrix)\n",
    "    \n",
    "    cv_data.append(cv_folder_matrix)\n",
    "    \n",
    "train_data = np.concatenate(train_data,axis=0)\n",
    "\n",
    "cv_data = np.concatenate(cv_data,axis=0)"
   ]
  },
  {
   "cell_type": "code",
   "execution_count": 12,
   "id": "4672653f-9ff1-45cf-aa7d-a0065ca67368",
   "metadata": {},
   "outputs": [],
   "source": [
    "train_labels = []\n",
    "\n",
    "cv_labels = []\n",
    "\n",
    "for folder_name in unique_labels:\n",
    "    \n",
    "    train_labels = train_labels + [folder_name]*1360\n",
    "    \n",
    "    cv_labels = cv_labels + [folder_name]*340\n"
   ]
  },
  {
   "cell_type": "code",
   "execution_count": 13,
   "id": "fe05a236-8d64-47ce-b811-05c5558327bc",
   "metadata": {},
   "outputs": [],
   "source": [
    "train_data = pd.DataFrame(data=train_data)\n",
    "train_data['label'] = train_labels\n",
    "cv_data = pd.DataFrame(data=cv_data)\n",
    "cv_data['label'] = cv_labels"
   ]
  },
  {
   "cell_type": "code",
   "execution_count": 14,
   "id": "084c3527-a6e3-4b20-9a29-b59e1556c64e",
   "metadata": {},
   "outputs": [],
   "source": [
    "cv_actual_results = np.array(cv_data['label'])"
   ]
  },
  {
   "cell_type": "code",
   "execution_count": 19,
   "id": "22ecfc92-34df-436b-9c9f-840226537841",
   "metadata": {},
   "outputs": [
    {
     "data": {
      "text/plain": [
       "array([[0., 0., 0., ..., 0., 0., 0.],\n",
       "       [0., 0., 0., ..., 0., 0., 0.],\n",
       "       [0., 0., 0., ..., 0., 0., 0.],\n",
       "       ...,\n",
       "       [0., 0., 0., ..., 0., 0., 0.],\n",
       "       [0., 0., 0., ..., 0., 0., 0.],\n",
       "       [0., 0., 0., ..., 0., 0., 0.]], dtype=float32)"
      ]
     },
     "execution_count": 19,
     "metadata": {},
     "output_type": "execute_result"
    }
   ],
   "source": [
    "data = pd.concat([train_data,cv_data])\n",
    "\n",
    "X = np.array(data.iloc[:,0:1024])\n",
    "X "
   ]
  },
  {
   "cell_type": "code",
   "execution_count": 16,
   "id": "3b16d000-9cae-4aa9-aea4-8abec307994c",
   "metadata": {},
   "outputs": [],
   "source": [
    "from sklearn.naive_bayes import GaussianNB\n",
    "\n",
    "from sklearn.decomposition import PCA\n",
    "\n",
    "from sklearn.metrics import accuracy_score"
   ]
  },
  {
   "cell_type": "code",
   "execution_count": 61,
   "id": "ebec7e80-d644-4a54-bae4-864a0d93c3eb",
   "metadata": {},
   "outputs": [],
   "source": [
    "def cross_validation(n_eig_vectors):\n",
    "    pca_obj = PCA(n_components=n_eig_vectors)\n",
    "    X_new = pca_obj.fit_transform(X)\n",
    "    # Create a new DataFrame with a range index\n",
    "    X_new_df = pd.DataFrame(X_new)\n",
    "    X_new_df.reset_index(drop=True, inplace=True)\n",
    "    data.reset_index(drop=True, inplace=True)\n",
    "    X_new_df= pd.concat([ X_new_df, data['label']], axis=1)  \n",
    "    X_train_new = X_new_df.iloc[:62560, :-1]  \n",
    "    X_cv_new = X_new_df.iloc[62560:, :-1]\n",
    "    y_train_new = X_new_df.iloc[:62560, -1]  \n",
    "    y_cv_new = X_new_df.iloc[62560:, -1]  \n",
    "    \n",
    "    obj = GaussianNB()\n",
    "    obj.fit(X_train_new, y_train_new)\n",
    "    \n",
    "    cv_predicted_category = obj.predict(X_cv_new)\n",
    "    return accuracy_score(y_true=y_cv_new,y_pred=cv_predicted_category)\n",
    "\n",
    " "
   ]
  },
  {
   "cell_type": "code",
   "execution_count": 62,
   "id": "94460519-8b6d-4184-a198-1fa4c10f09bf",
   "metadata": {},
   "outputs": [],
   "source": [
    "number_eig_vectors = [512,256,128,64,32,16,8,4,2,1]\n",
    "\n",
    "D_performance = {}\n",
    "\n",
    "for number in number_eig_vectors:\n",
    "    \n",
    "    D_performance[number] = cross_validation(number)\n",
    "    "
   ]
  },
  {
   "cell_type": "code",
   "execution_count": 63,
   "id": "ebcdedc5-2a37-46b9-b0e5-5afee3aa81a9",
   "metadata": {},
   "outputs": [
    {
     "data": {
      "text/plain": [
       "{512: 0.45613810741687977,\n",
       " 256: 0.5058823529411764,\n",
       " 128: 0.566304347826087,\n",
       " 64: 0.5492966751918159,\n",
       " 32: 0.5319693094629157,\n",
       " 16: 0.4650895140664962,\n",
       " 8: 0.31681585677749363,\n",
       " 4: 0.15933503836317137,\n",
       " 2: 0.06604859335038363,\n",
       " 1: 0.03618925831202046}"
      ]
     },
     "execution_count": 63,
     "metadata": {},
     "output_type": "execute_result"
    }
   ],
   "source": [
    "D_performance"
   ]
  }
 ],
 "metadata": {
  "kernelspec": {
   "display_name": "Python 3 (ipykernel)",
   "language": "python",
   "name": "python3"
  },
  "language_info": {
   "codemirror_mode": {
    "name": "ipython",
    "version": 3
   },
   "file_extension": ".py",
   "mimetype": "text/x-python",
   "name": "python",
   "nbconvert_exporter": "python",
   "pygments_lexer": "ipython3",
   "version": "3.11.7"
  }
 },
 "nbformat": 4,
 "nbformat_minor": 5
}
