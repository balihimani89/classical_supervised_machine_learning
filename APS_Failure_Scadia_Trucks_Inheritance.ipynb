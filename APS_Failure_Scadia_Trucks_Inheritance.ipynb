{
 "cells": [
  {
   "cell_type": "code",
   "execution_count": null,
   "id": "db555dd2-579b-4683-9268-9c4ca4968017",
   "metadata": {},
   "outputs": [],
   "source": [
    "import pandas as pd\n",
    "import numpy as np\n",
    "import scipy.stats as s\n",
    "from sklearn.impute import SimpleImputer\n",
    "import matplotlib.pyplot as plt\n",
    "from Gaussian_Naive_Bayes_API  import gaussian_nb"
   ]
  },
  {
   "cell_type": "code",
   "execution_count": null,
   "id": "f6fc63ae-9fcb-4ebb-bbac-329c8981511e",
   "metadata": {},
   "outputs": [],
   "source": [
    "train_data=pd.read_csv(\"aps_failure_training_set.csv\",header=None,skiprows=20)"
   ]
  },
  {
   "cell_type": "code",
   "execution_count": null,
   "id": "36467afe-6e5e-4101-8917-b9a8f786da1a",
   "metadata": {},
   "outputs": [],
   "source": [
    "train_data.head()"
   ]
  },
  {
   "cell_type": "code",
   "execution_count": null,
   "id": "b9982757-ee61-49c3-b659-abb18589fc37",
   "metadata": {},
   "outputs": [],
   "source": [
    "columns=train_data.iloc[0]\n",
    "columns"
   ]
  },
  {
   "cell_type": "code",
   "execution_count": null,
   "id": "edf2ad5d-daf5-4f9d-8002-04aada6d6c2c",
   "metadata": {},
   "outputs": [],
   "source": [
    "train_data=pd.read_csv(\"aps_failure_training_set.csv\",header=None,skiprows=21,names=columns)\n",
    "train_data.head()"
   ]
  },
  {
   "cell_type": "code",
   "execution_count": null,
   "id": "a6912b0a-d4ff-4c78-92aa-d866875bbb0c",
   "metadata": {},
   "outputs": [],
   "source": [
    "train_data['class'].unique()"
   ]
  },
  {
   "cell_type": "code",
   "execution_count": null,
   "id": "9ede536e-21c3-4999-870a-78d5dbe67df0",
   "metadata": {},
   "outputs": [],
   "source": [
    "train_data=train_data.dropna(axis=1)\n",
    "train_data.shape"
   ]
  },
  {
   "cell_type": "code",
   "execution_count": null,
   "id": "6f500b41-9b42-4fdf-98b9-abfc55751262",
   "metadata": {},
   "outputs": [],
   "source": [
    "train_data.replace(to_replace='na',value=np.nan,inplace=True)\n",
    "train_data.head()"
   ]
  },
  {
   "cell_type": "code",
   "execution_count": null,
   "id": "cf420c9e-09c4-454b-a637-a2aa4a4e277f",
   "metadata": {},
   "outputs": [],
   "source": [
    "train_data.dropna(axis=1,inplace=True,thresh=int(0.8*(train_data.shape[0])))\n"
   ]
  },
  {
   "cell_type": "code",
   "execution_count": null,
   "id": "4543f880-fb1d-4688-87d4-ebd6d2ecc2db",
   "metadata": {},
   "outputs": [],
   "source": [
    "train_data.shape"
   ]
  },
  {
   "cell_type": "code",
   "execution_count": null,
   "id": "8f60f279-1522-4447-974b-68a37b9ab178",
   "metadata": {},
   "outputs": [],
   "source": [
    "imputer=SimpleImputer()"
   ]
  },
  {
   "cell_type": "code",
   "execution_count": null,
   "id": "ca57db38-50dc-4796-a568-0ce002d7ae31",
   "metadata": {},
   "outputs": [],
   "source": [
    "train_data_array=imputer.fit_transform(X=train_data.iloc[:,1:])\n"
   ]
  },
  {
   "cell_type": "code",
   "execution_count": null,
   "id": "7a462421-ef39-417b-8d83-264d8b5a6d6c",
   "metadata": {},
   "outputs": [],
   "source": [
    "train_data_array.shape"
   ]
  },
  {
   "cell_type": "code",
   "execution_count": null,
   "id": "98b98b0f-1d2d-4b99-a9fe-b6210452f448",
   "metadata": {},
   "outputs": [],
   "source": [
    "data_columns=train_data.columns\n",
    "train_data_labels=train_data['class']\n",
    "train_data_labels"
   ]
  },
  {
   "cell_type": "code",
   "execution_count": null,
   "id": "1b3dceea-f887-4eff-8b2c-9cd614133eae",
   "metadata": {},
   "outputs": [],
   "source": [
    "train_data=pd.DataFrame(data=train_data_array,columns=data_columns[1:])\n",
    "train_data"
   ]
  },
  {
   "cell_type": "code",
   "execution_count": null,
   "id": "5434c397-715a-4fd4-a874-2349f0fbbd28",
   "metadata": {},
   "outputs": [],
   "source": [
    "train_data['Class']=train_data_labels"
   ]
  },
  {
   "cell_type": "code",
   "execution_count": null,
   "id": "c260cf31-a238-41f6-a722-b4da7a6bf7df",
   "metadata": {},
   "outputs": [],
   "source": [
    "train_data.shape[1]-1"
   ]
  },
  {
   "cell_type": "code",
   "execution_count": null,
   "id": "ab3a03b6-ce6d-4e6d-b14a-4ddf60833183",
   "metadata": {},
   "outputs": [],
   "source": [
    "for column in train_data.columns[0:train_data.shape[1]-1]:\n",
    "    train_data[column]=pd.qcut(x=train_data[column],q=10,duplicates='drop').cat.codes"
   ]
  },
  {
   "cell_type": "code",
   "execution_count": null,
   "id": "eeeee0b2-19be-4072-bd85-1f310c4a8b19",
   "metadata": {},
   "outputs": [],
   "source": [
    "train_data"
   ]
  },
  {
   "cell_type": "code",
   "execution_count": null,
   "id": "8b11aab9-6bef-4202-9980-179eb3fe64ba",
   "metadata": {},
   "outputs": [],
   "source": [
    "np.eye(10,10)[train_data['aa_000']]"
   ]
  },
  {
   "cell_type": "code",
   "execution_count": null,
   "id": "a6557b72-a91e-49cd-9cca-c31bdf89b245",
   "metadata": {},
   "outputs": [],
   "source": [
    "np_array_list=list()\n",
    "for columns in train_data.columns[0:train_data.shape[1]-1]:\n",
    "    np_array_list.append(np.eye(10,10)[train_data[columns]])\n",
    "    "
   ]
  },
  {
   "cell_type": "code",
   "execution_count": null,
   "id": "49712822-7b39-4cd6-a48f-d0a363448379",
   "metadata": {},
   "outputs": [],
   "source": [
    "data_array=np.concatenate(np_array_list,axis=1)\n",
    "data_array.shape"
   ]
  },
  {
   "cell_type": "code",
   "execution_count": null,
   "id": "6103db57-d610-4dcc-b3d4-590430ba3170",
   "metadata": {},
   "outputs": [],
   "source": [
    "train_data=pd.DataFrame(data=data_array)\n",
    "train_data['Class']=train_data_labels"
   ]
  },
  {
   "cell_type": "code",
   "execution_count": null,
   "id": "17a0e0e1-55cb-47ea-8454-4536dca9365c",
   "metadata": {},
   "outputs": [],
   "source": [
    "train_data"
   ]
  },
  {
   "cell_type": "code",
   "execution_count": null,
   "id": "1daf7681-9162-4a96-8fa8-1247c13dd5c1",
   "metadata": {},
   "outputs": [],
   "source": [
    "rru_object=gaussian_nb(features=train_data.iloc[:,0:train_data.shape[1]-1],labels=train_data['Class'],data_split_ratio=(0.8,0.2,0.0),apply_pca=True,n_components=100)"
   ]
  },
  {
   "cell_type": "code",
   "execution_count": null,
   "id": "39eb5705-bda8-46d1-8d17-d388416c64e0",
   "metadata": {},
   "outputs": [],
   "source": [
    "rru_object.X_new"
   ]
  },
  {
   "cell_type": "code",
   "execution_count": null,
   "id": "1f48ec60-056f-4baa-9871-cf565812c114",
   "metadata": {},
   "outputs": [],
   "source": [
    "train_data_new=pd.DataFrame(data=rru_object.X_new)\n",
    "train_data_new['Class']=train_data_labels"
   ]
  },
  {
   "cell_type": "code",
   "execution_count": null,
   "id": "0788fc55-1bdf-4463-89d9-af91f17f3a87",
   "metadata": {},
   "outputs": [],
   "source": [
    "train_data_new"
   ]
  },
  {
   "cell_type": "code",
   "execution_count": null,
   "id": "a0b775b5-0dde-429d-99b6-48be2484092e",
   "metadata": {},
   "outputs": [],
   "source": [
    "np.count_nonzero(train_data_new['Class']=='neg')"
   ]
  },
  {
   "cell_type": "code",
   "execution_count": null,
   "id": "b9a149d9-204e-4041-8fbe-cf016b31b144",
   "metadata": {},
   "outputs": [],
   "source": [
    "np.count_nonzero(train_data_new['Class']=='pos')"
   ]
  },
  {
   "cell_type": "code",
   "execution_count": null,
   "id": "5427054a-646c-43e5-9a5c-9d7c0d36db50",
   "metadata": {},
   "outputs": [],
   "source": [
    "#to balance the training data we will use smote as the neg>>>>>pos"
   ]
  },
  {
   "cell_type": "code",
   "execution_count": null,
   "id": "03aef7af-3f87-4a61-b89c-1b5171ab9d8d",
   "metadata": {},
   "outputs": [],
   "source": [
    "from imblearn.over_sampling import SMOTE"
   ]
  },
  {
   "cell_type": "code",
   "execution_count": null,
   "id": "9730bc31-4b14-45ca-a05a-4940d19ee0c4",
   "metadata": {},
   "outputs": [],
   "source": [
    "smote_obj=SMOTE(sampling_strategy='minority',k_neighbors=5)"
   ]
  },
  {
   "cell_type": "code",
   "execution_count": null,
   "id": "bd266db7-a578-4e79-93ec-c6cc3cd7439f",
   "metadata": {},
   "outputs": [],
   "source": [
    "x_oversampled,y_oversampled=smote_obj.fit_resample(X=rru_object.X_new,y=train_data['Class'])"
   ]
  },
  {
   "cell_type": "code",
   "execution_count": null,
   "id": "962784b6-b15a-422e-a624-16098443fe29",
   "metadata": {},
   "outputs": [],
   "source": [
    "train_data_new=pd.DataFrame(data=x_oversampled)\n",
    "train_data_new['Class']=y_oversampled"
   ]
  },
  {
   "cell_type": "code",
   "execution_count": null,
   "id": "a6e875c1-acfe-4ce2-bc23-6d7629f992f0",
   "metadata": {},
   "outputs": [],
   "source": [
    "train_data_new"
   ]
  },
  {
   "cell_type": "code",
   "execution_count": null,
   "id": "1875916e-45f2-445f-99bc-1d4a53f1f51f",
   "metadata": {},
   "outputs": [],
   "source": [
    "x_train_data_new_pos=train_data_new[train_data_new['Class']=='pos'].iloc[0:int(0.8*train_data_new.shape[0]//2)]\n",
    "print(x_train_data_new_pos.shape)\n",
    "x_train_data_new_neg=train_data_new[train_data_new['Class']=='neg'].iloc[0:int(0.8*train_data_new.shape[0]//2)]\n",
    "print(x_train_data_new_neg.shape)\n",
    "x_cv_data_new_pos=train_data_new[train_data_new['Class']=='pos'].iloc[0:int(0.2*train_data_new.shape[0]//2)]\n",
    "print(x_cv_data_new_pos.shape)\n",
    "x_cv_data_new_neg=train_data_new[train_data_new['Class']=='neg'].iloc[0:int(0.2*train_data_new.shape[0]//2)]\n",
    "print(x_cv_data_new_neg.shape)\n",
    "train_data_concat=pd.concat([x_train_data_new_pos,x_train_data_new_neg])\n",
    "cv_data_concat=pd.concat([x_cv_data_new_pos,x_cv_data_new_neg])"
   ]
  },
  {
   "cell_type": "code",
   "execution_count": null,
   "id": "9ea21cf6-8c5d-4e98-a28c-4f2864bc7040",
   "metadata": {},
   "outputs": [],
   "source": [
    "print(train_data_concat.shape)\n",
    "print(cv_data_concat.shape)"
   ]
  },
  {
   "cell_type": "code",
   "execution_count": null,
   "id": "6ee1b24a-b806-411c-b8f8-3f714e172733",
   "metadata": {},
   "outputs": [],
   "source": [
    "train_data_concat"
   ]
  },
  {
   "cell_type": "code",
   "execution_count": null,
   "id": "e6f0776a-7da3-415c-9c72-048933738984",
   "metadata": {},
   "outputs": [],
   "source": [
    "miu_hat_pos=np.array(train_data_concat[train_data_concat[\"Class\"]==\"pos\"].iloc[:,0:100].mean())\n",
    "sigma_hat_pos=np.array(train_data_concat[train_data_concat[\"Class\"]==\"pos\"].iloc[:,0:100].cov())\n",
    "print(np.linalg.det(sigma_hat_pos))"
   ]
  },
  {
   "cell_type": "code",
   "execution_count": null,
   "id": "0aa7b648-8b82-461f-8342-12012b116164",
   "metadata": {},
   "outputs": [],
   "source": [
    "miu_hat_neg=np.array(train_data_concat[train_data_concat[\"Class\"]==\"neg\"].iloc[:,0:100].mean())\n",
    "sigma_hat_neg=np.array(train_data_concat[train_data_concat[\"Class\"]==\"neg\"].iloc[:,0:100].cov())\n",
    "print(np.linalg.det(sigma_hat_neg))"
   ]
  },
  {
   "cell_type": "code",
   "execution_count": null,
   "id": "a0934713-22cf-4e61-9833-907dd5748dd6",
   "metadata": {},
   "outputs": [],
   "source": [
    "pos_prior=train_data_concat[train_data_concat[\"Class\"]==\"pos\"].shape[0]/train_data_concat.shape[0]\n",
    "neg_prior=train_data_concat[train_data_concat[\"Class\"]==\"neg\"].shape[0]/train_data_concat.shape[0]"
   ]
  },
  {
   "cell_type": "code",
   "execution_count": null,
   "id": "e36948d4-afeb-408a-b116-63536e02c669",
   "metadata": {},
   "outputs": [],
   "source": [
    "def mocktest(data):\n",
    "    inputs=np.array(data.iloc[:,0:100])\n",
    "    posterior_pos=s.multivariate_normal.pdf(inputs,miu_hat_pos,sigma_hat_pos)*pos_prior\n",
    "    posterior_neg=s.multivariate_normal.pdf(inputs,miu_hat_neg,sigma_hat_neg)*neg_prior\n",
    "    boolean_mask= posterior_pos> posterior_neg\n",
    "    predicted_catogory=pd.Series(boolean_mask)\n",
    "    predicted_catogory.replace(to_replace=[True,False],value=['pos','neg'],inplace=True)\n",
    "    return np.array(predicted_catogory)"
   ]
  },
  {
   "cell_type": "code",
   "execution_count": null,
   "id": "9e70f294-c866-417a-b34a-6d022418fb28",
   "metadata": {},
   "outputs": [],
   "source": [
    "predicted_results=mocktest(cv_data_concat)\n",
    "print(\"predicted_results\",predicted_results)\n",
    "Actual_results=np.array(cv_data_concat['Class'])\n",
    "print(\"Actual_results\",predicted_results)"
   ]
  },
  {
   "cell_type": "code",
   "execution_count": null,
   "id": "41070b41-0780-4da9-97e7-f97a710e140d",
   "metadata": {},
   "outputs": [],
   "source": [
    "Accuracy=np.count_nonzero(predicted_results==Actual_results)/Actual_results.shape[0]\n",
    "Accuracy"
   ]
  },
  {
   "cell_type": "code",
   "execution_count": null,
   "id": "82626fa5-3e5b-4865-9d54-dbbd33bfdf67",
   "metadata": {},
   "outputs": [],
   "source": []
  }
 ],
 "metadata": {
  "kernelspec": {
   "display_name": "Python 3 (ipykernel)",
   "language": "python",
   "name": "python3"
  },
  "language_info": {
   "codemirror_mode": {
    "name": "ipython",
    "version": 3
   },
   "file_extension": ".py",
   "mimetype": "text/x-python",
   "name": "python",
   "nbconvert_exporter": "python",
   "pygments_lexer": "ipython3",
   "version": "3.11.7"
  }
 },
 "nbformat": 4,
 "nbformat_minor": 5
}
